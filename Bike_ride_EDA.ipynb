{
 "cells": [
  {
   "cell_type": "code",
   "execution_count": 1,
   "id": "46342abd",
   "metadata": {},
   "outputs": [],
   "source": [
    "# Importing pandas library.\n",
    "\n",
    "import pandas as pd"
   ]
  },
  {
   "cell_type": "code",
   "execution_count": 22,
   "id": "faccf4ec",
   "metadata": {},
   "outputs": [
    {
     "name": "stdout",
     "output_type": "stream",
     "text": [
      "complete\n"
     ]
    }
   ],
   "source": [
    "# Using \"pd.read.csv\" to read the files and storing it in dataframes.\n",
    "\n",
    "trips_2019_Q2=pd.read_csv(r\"C:\\Users\\sachi\\OneDrive\\Documents\\Divvy_Trips_2019_Q2.csv\")\n",
    "trips_2019_Q3=pd.read_csv(r\"C:\\Users\\sachi\\OneDrive\\Documents\\Divvy_Trips_2019_Q3.csv\")\n",
    "trips_2019_Q4=pd.read_csv(r\"C:\\Users\\sachi\\OneDrive\\Documents\\Divvy_Trips_2019_Q4.csv\")\n",
    "trips_2020_Q1=pd.read_csv(r\"C:\\Users\\sachi\\OneDrive\\Documents\\Divvy_Trips_2020_Q1.csv\")\n",
    "print(\"complete\")"
   ]
  },
  {
   "cell_type": "code",
   "execution_count": 10,
   "id": "8b72e91f",
   "metadata": {},
   "outputs": [],
   "source": [
    "# Renaming the colum names so that we have same columns in every dataframe.\n",
    "\n",
    "trips_2020_Q1.rename(columns={\"started_at\":\"start_time\",\"ended_at\":\"end_time\"},inplace=True)\n",
    "\n",
    "trips_2019_Q2.rename(columns={\"01 - Rental Details Rental ID\":\"ride_id\",\"01 - Rental Details Local Start Time\":\"start_time\", \n",
    "                      \"01 - Rental Details Local End Time\":\"end_time\", \n",
    "                      \"03 - Rental Start Station ID\":\"start_station_id\",\"03 - Rental Start Station Name\":\"start_station_name\",\n",
    "                      \"02 - Rental End Station ID\":\"end_station_id\",\"02 - Rental End Station Name\":\"end_station_name\",\"01 - Rental Details Bike ID\":\"rideable_type\",\"User Type\":\"member_casual\"},inplace=True)\n",
    "\n",
    "trips_2019_Q3.rename(columns={\"bikeid\":\"rideable_type\",\"from_station_id\":\"start_station_id\",\"from_station_name\":\"start_station_name\",\n",
    "                             \"to_station_id\":\"end_station_id\",\"to_station_name\":\"end_station_name\",\"usertype\":\"member_casual\",\"trip_id\":\"ride_id\"\n",
    "                             },inplace=True)\n",
    "\n",
    "trips_2019_Q4.rename(columns={\n",
    "       'from_station_id':'start_station_id', 'from_station_name':'start_station_name', 'to_station_id':'end_station_id',\n",
    "       'to_station_name':'end_station_name',\"bikeid\":\"rideable_type\",\"trip_id\":\"ride_id\",\"usertype\":\"member_casual\"},inplace=True)"
   ]
  },
  {
   "cell_type": "code",
   "execution_count": 27,
   "id": "b6554de0",
   "metadata": {},
   "outputs": [
    {
     "data": {
      "text/plain": [
       "Index(['01 - Rental Details Rental ID', '01 - Rental Details Local Start Time',\n",
       "       '01 - Rental Details Local End Time', '01 - Rental Details Bike ID',\n",
       "       '01 - Rental Details Duration In Seconds Uncapped',\n",
       "       '03 - Rental Start Station ID', '03 - Rental Start Station Name',\n",
       "       '02 - Rental End Station ID', '02 - Rental End Station Name',\n",
       "       'User Type', 'Member Gender',\n",
       "       '05 - Member Details Member Birthday Year'],\n",
       "      dtype='object')"
      ]
     },
     "execution_count": 27,
     "metadata": {},
     "output_type": "execute_result"
    }
   ],
   "source": [
    "# Check all the column names in each dataframe.\n",
    "trips_2020_Q1.columns"
   ]
  },
  {
   "cell_type": "code",
   "execution_count": 25,
   "id": "5af5ef70",
   "metadata": {
    "scrolled": true
   },
   "outputs": [
    {
     "data": {
      "text/plain": [
       "Index(['01 - Rental Details Rental ID', '01 - Rental Details Local Start Time',\n",
       "       '01 - Rental Details Local End Time', '01 - Rental Details Bike ID',\n",
       "       '01 - Rental Details Duration In Seconds Uncapped',\n",
       "       '03 - Rental Start Station ID', '03 - Rental Start Station Name',\n",
       "       '02 - Rental End Station ID', '02 - Rental End Station Name',\n",
       "       'User Type', 'Member Gender',\n",
       "       '05 - Member Details Member Birthday Year'],\n",
       "      dtype='object')"
      ]
     },
     "execution_count": 25,
     "metadata": {},
     "output_type": "execute_result"
    }
   ],
   "source": [
    "trips_2019_Q2.columns"
   ]
  },
  {
   "cell_type": "code",
   "execution_count": 26,
   "id": "fa93ee47",
   "metadata": {},
   "outputs": [
    {
     "data": {
      "text/plain": [
       "Index(['trip_id', 'start_time', 'end_time', 'bikeid', 'tripduration',\n",
       "       'from_station_id', 'from_station_name', 'to_station_id',\n",
       "       'to_station_name', 'usertype', 'gender', 'birthyear'],\n",
       "      dtype='object')"
      ]
     },
     "execution_count": 26,
     "metadata": {},
     "output_type": "execute_result"
    }
   ],
   "source": [
    "trips_2019_Q3.columns"
   ]
  },
  {
   "cell_type": "code",
   "execution_count": 15,
   "id": "2e65a522",
   "metadata": {},
   "outputs": [
    {
     "data": {
      "text/plain": [
       "Index(['ride_id', 'start_time', 'end_time', 'rideable_type', 'tripduration',\n",
       "       'start_station_id', 'start_station_name', 'end_station_id',\n",
       "       'end_station_name', 'member_casual', 'gender', 'birthyear'],\n",
       "      dtype='object')"
      ]
     },
     "execution_count": 15,
     "metadata": {},
     "output_type": "execute_result"
    }
   ],
   "source": [
    "trips_2019_Q4.columns"
   ]
  },
  {
   "cell_type": "code",
   "execution_count": 17,
   "id": "d1992768",
   "metadata": {},
   "outputs": [],
   "source": [
    "# Concatenating all frames in one frame for analysis.\n",
    "\n",
    "frames=[trips_2019_Q2,trips_2019_Q3,trips_2019_Q4,trips_2020_Q1]\n",
    "all_trips=pd.concat(frames)"
   ]
  },
  {
   "cell_type": "code",
   "execution_count": 18,
   "id": "ad852ed0",
   "metadata": {},
   "outputs": [
    {
     "data": {
      "text/html": [
       "<div>\n",
       "<style scoped>\n",
       "    .dataframe tbody tr th:only-of-type {\n",
       "        vertical-align: middle;\n",
       "    }\n",
       "\n",
       "    .dataframe tbody tr th {\n",
       "        vertical-align: top;\n",
       "    }\n",
       "\n",
       "    .dataframe thead th {\n",
       "        text-align: right;\n",
       "    }\n",
       "</style>\n",
       "<table border=\"1\" class=\"dataframe\">\n",
       "  <thead>\n",
       "    <tr style=\"text-align: right;\">\n",
       "      <th></th>\n",
       "      <th>ride_id</th>\n",
       "      <th>start_time</th>\n",
       "      <th>end_time</th>\n",
       "      <th>rideable_type</th>\n",
       "      <th>01 - Rental Details Duration In Seconds Uncapped</th>\n",
       "      <th>start_station_id</th>\n",
       "      <th>start_station_name</th>\n",
       "      <th>end_station_id</th>\n",
       "      <th>end_station_name</th>\n",
       "      <th>member_casual</th>\n",
       "      <th>Member Gender</th>\n",
       "      <th>05 - Member Details Member Birthday Year</th>\n",
       "      <th>tripduration</th>\n",
       "      <th>gender</th>\n",
       "      <th>birthyear</th>\n",
       "      <th>start_lat</th>\n",
       "      <th>start_lng</th>\n",
       "      <th>end_lat</th>\n",
       "      <th>end_lng</th>\n",
       "    </tr>\n",
       "  </thead>\n",
       "  <tbody>\n",
       "    <tr>\n",
       "      <th>0</th>\n",
       "      <td>22178529</td>\n",
       "      <td>2019-04-01 00:02:22</td>\n",
       "      <td>2019-04-01 00:09:48</td>\n",
       "      <td>6251</td>\n",
       "      <td>446.0</td>\n",
       "      <td>81</td>\n",
       "      <td>Daley Center Plaza</td>\n",
       "      <td>56.0</td>\n",
       "      <td>Desplaines St &amp; Kinzie St</td>\n",
       "      <td>Subscriber</td>\n",
       "      <td>Male</td>\n",
       "      <td>1975.0</td>\n",
       "      <td>NaN</td>\n",
       "      <td>NaN</td>\n",
       "      <td>NaN</td>\n",
       "      <td>NaN</td>\n",
       "      <td>NaN</td>\n",
       "      <td>NaN</td>\n",
       "      <td>NaN</td>\n",
       "    </tr>\n",
       "    <tr>\n",
       "      <th>1</th>\n",
       "      <td>22178530</td>\n",
       "      <td>2019-04-01 00:03:02</td>\n",
       "      <td>2019-04-01 00:20:30</td>\n",
       "      <td>6226</td>\n",
       "      <td>1,048.0</td>\n",
       "      <td>317</td>\n",
       "      <td>Wood St &amp; Taylor St</td>\n",
       "      <td>59.0</td>\n",
       "      <td>Wabash Ave &amp; Roosevelt Rd</td>\n",
       "      <td>Subscriber</td>\n",
       "      <td>Female</td>\n",
       "      <td>1984.0</td>\n",
       "      <td>NaN</td>\n",
       "      <td>NaN</td>\n",
       "      <td>NaN</td>\n",
       "      <td>NaN</td>\n",
       "      <td>NaN</td>\n",
       "      <td>NaN</td>\n",
       "      <td>NaN</td>\n",
       "    </tr>\n",
       "    <tr>\n",
       "      <th>2</th>\n",
       "      <td>22178531</td>\n",
       "      <td>2019-04-01 00:11:07</td>\n",
       "      <td>2019-04-01 00:15:19</td>\n",
       "      <td>5649</td>\n",
       "      <td>252.0</td>\n",
       "      <td>283</td>\n",
       "      <td>LaSalle St &amp; Jackson Blvd</td>\n",
       "      <td>174.0</td>\n",
       "      <td>Canal St &amp; Madison St</td>\n",
       "      <td>Subscriber</td>\n",
       "      <td>Male</td>\n",
       "      <td>1990.0</td>\n",
       "      <td>NaN</td>\n",
       "      <td>NaN</td>\n",
       "      <td>NaN</td>\n",
       "      <td>NaN</td>\n",
       "      <td>NaN</td>\n",
       "      <td>NaN</td>\n",
       "      <td>NaN</td>\n",
       "    </tr>\n",
       "    <tr>\n",
       "      <th>3</th>\n",
       "      <td>22178532</td>\n",
       "      <td>2019-04-01 00:13:01</td>\n",
       "      <td>2019-04-01 00:18:58</td>\n",
       "      <td>4151</td>\n",
       "      <td>357.0</td>\n",
       "      <td>26</td>\n",
       "      <td>McClurg Ct &amp; Illinois St</td>\n",
       "      <td>133.0</td>\n",
       "      <td>Kingsbury St &amp; Kinzie St</td>\n",
       "      <td>Subscriber</td>\n",
       "      <td>Male</td>\n",
       "      <td>1993.0</td>\n",
       "      <td>NaN</td>\n",
       "      <td>NaN</td>\n",
       "      <td>NaN</td>\n",
       "      <td>NaN</td>\n",
       "      <td>NaN</td>\n",
       "      <td>NaN</td>\n",
       "      <td>NaN</td>\n",
       "    </tr>\n",
       "    <tr>\n",
       "      <th>4</th>\n",
       "      <td>22178533</td>\n",
       "      <td>2019-04-01 00:19:26</td>\n",
       "      <td>2019-04-01 00:36:13</td>\n",
       "      <td>3270</td>\n",
       "      <td>1,007.0</td>\n",
       "      <td>202</td>\n",
       "      <td>Halsted St &amp; 18th St</td>\n",
       "      <td>129.0</td>\n",
       "      <td>Blue Island Ave &amp; 18th St</td>\n",
       "      <td>Subscriber</td>\n",
       "      <td>Male</td>\n",
       "      <td>1992.0</td>\n",
       "      <td>NaN</td>\n",
       "      <td>NaN</td>\n",
       "      <td>NaN</td>\n",
       "      <td>NaN</td>\n",
       "      <td>NaN</td>\n",
       "      <td>NaN</td>\n",
       "      <td>NaN</td>\n",
       "    </tr>\n",
       "  </tbody>\n",
       "</table>\n",
       "</div>"
      ],
      "text/plain": [
       "    ride_id           start_time             end_time rideable_type  \\\n",
       "0  22178529  2019-04-01 00:02:22  2019-04-01 00:09:48          6251   \n",
       "1  22178530  2019-04-01 00:03:02  2019-04-01 00:20:30          6226   \n",
       "2  22178531  2019-04-01 00:11:07  2019-04-01 00:15:19          5649   \n",
       "3  22178532  2019-04-01 00:13:01  2019-04-01 00:18:58          4151   \n",
       "4  22178533  2019-04-01 00:19:26  2019-04-01 00:36:13          3270   \n",
       "\n",
       "  01 - Rental Details Duration In Seconds Uncapped  start_station_id  \\\n",
       "0                                            446.0                81   \n",
       "1                                          1,048.0               317   \n",
       "2                                            252.0               283   \n",
       "3                                            357.0                26   \n",
       "4                                          1,007.0               202   \n",
       "\n",
       "          start_station_name  end_station_id           end_station_name  \\\n",
       "0         Daley Center Plaza            56.0  Desplaines St & Kinzie St   \n",
       "1        Wood St & Taylor St            59.0  Wabash Ave & Roosevelt Rd   \n",
       "2  LaSalle St & Jackson Blvd           174.0      Canal St & Madison St   \n",
       "3   McClurg Ct & Illinois St           133.0   Kingsbury St & Kinzie St   \n",
       "4       Halsted St & 18th St           129.0  Blue Island Ave & 18th St   \n",
       "\n",
       "  member_casual Member Gender  05 - Member Details Member Birthday Year  \\\n",
       "0    Subscriber          Male                                    1975.0   \n",
       "1    Subscriber        Female                                    1984.0   \n",
       "2    Subscriber          Male                                    1990.0   \n",
       "3    Subscriber          Male                                    1993.0   \n",
       "4    Subscriber          Male                                    1992.0   \n",
       "\n",
       "  tripduration gender  birthyear  start_lat  start_lng  end_lat  end_lng  \n",
       "0          NaN    NaN        NaN        NaN        NaN      NaN      NaN  \n",
       "1          NaN    NaN        NaN        NaN        NaN      NaN      NaN  \n",
       "2          NaN    NaN        NaN        NaN        NaN      NaN      NaN  \n",
       "3          NaN    NaN        NaN        NaN        NaN      NaN      NaN  \n",
       "4          NaN    NaN        NaN        NaN        NaN      NaN      NaN  "
      ]
     },
     "execution_count": 18,
     "metadata": {},
     "output_type": "execute_result"
    }
   ],
   "source": [
    "all_trips.head()"
   ]
  },
  {
   "cell_type": "code",
   "execution_count": 19,
   "id": "e5fe8a88",
   "metadata": {},
   "outputs": [],
   "source": [
    "# Removing all columns which are not required.\n",
    "all_trips.drop([\n",
    "       '01 - Rental Details Duration In Seconds Uncapped', \n",
    "        'Member Gender',\n",
    "       '05 - Member Details Member Birthday Year', 'tripduration', 'gender',\n",
    "       'birthyear', 'start_lat', 'start_lng', 'end_lat', 'end_lng'],axis=1,inplace=True)"
   ]
  },
  {
   "cell_type": "code",
   "execution_count": 20,
   "id": "1ec41c45",
   "metadata": {},
   "outputs": [
    {
     "data": {
      "text/plain": [
       "Index(['ride_id', 'start_time', 'end_time', 'rideable_type',\n",
       "       'start_station_id', 'start_station_name', 'end_station_id',\n",
       "       'end_station_name', 'member_casual'],\n",
       "      dtype='object')"
      ]
     },
     "execution_count": 20,
     "metadata": {},
     "output_type": "execute_result"
    }
   ],
   "source": [
    "all_trips.columns"
   ]
  },
  {
   "cell_type": "code",
   "execution_count": 21,
   "id": "ede996a3",
   "metadata": {},
   "outputs": [
    {
     "data": {
      "text/plain": [
       "ride_id                object\n",
       "start_time             object\n",
       "end_time               object\n",
       "rideable_type          object\n",
       "start_station_id        int64\n",
       "start_station_name     object\n",
       "end_station_id        float64\n",
       "end_station_name       object\n",
       "member_casual          object\n",
       "dtype: object"
      ]
     },
     "execution_count": 21,
     "metadata": {},
     "output_type": "execute_result"
    }
   ],
   "source": [
    "# Checking the data types of data in dataframe.\n",
    "all_trips.dtypes"
   ]
  },
  {
   "cell_type": "code",
   "execution_count": 22,
   "id": "ce5ff450",
   "metadata": {},
   "outputs": [],
   "source": [
    "# Converting the start_time and end_time to datetime.         \n",
    "all_trips[[\"start_time\",\"end_time\"]]=all_trips[[\"start_time\",\"end_time\"]].apply(pd.to_datetime)"
   ]
  },
  {
   "cell_type": "code",
   "execution_count": 23,
   "id": "6b75de14",
   "metadata": {},
   "outputs": [],
   "source": [
    "# Getting trip_duration column in minutes\n",
    "all_trips[\"trip_duration\"]=(all_trips.end_time-all_trips.start_time) / pd.Timedelta(minutes=1)"
   ]
  },
  {
   "cell_type": "code",
   "execution_count": 24,
   "id": "dac81954",
   "metadata": {},
   "outputs": [],
   "source": [
    "# Getting year, month, and day columns\n",
    "all_trips[\"year\"]=all_trips[\"start_time\"].dt.year\n",
    "all_trips[\"month\"]=all_trips[\"start_time\"].dt.month\n",
    "all_trips[\"day\"]=all_trips[\"start_time\"].dt.day"
   ]
  },
  {
   "cell_type": "code",
   "execution_count": 27,
   "id": "ae1331bd",
   "metadata": {},
   "outputs": [],
   "source": [
    "# Also getting weekday column which gives day of week i.e 1 if Monday, 2 if Tuesday,...\n",
    "all_trips[\"day_of_week\"]=all_trips[\"start_time\"].apply(lambda x:x.weekday())"
   ]
  },
  {
   "cell_type": "code",
   "execution_count": 28,
   "id": "9425eb11",
   "metadata": {},
   "outputs": [
    {
     "data": {
      "text/html": [
       "<div>\n",
       "<style scoped>\n",
       "    .dataframe tbody tr th:only-of-type {\n",
       "        vertical-align: middle;\n",
       "    }\n",
       "\n",
       "    .dataframe tbody tr th {\n",
       "        vertical-align: top;\n",
       "    }\n",
       "\n",
       "    .dataframe thead th {\n",
       "        text-align: right;\n",
       "    }\n",
       "</style>\n",
       "<table border=\"1\" class=\"dataframe\">\n",
       "  <thead>\n",
       "    <tr style=\"text-align: right;\">\n",
       "      <th></th>\n",
       "      <th>ride_id</th>\n",
       "      <th>start_time</th>\n",
       "      <th>end_time</th>\n",
       "      <th>rideable_type</th>\n",
       "      <th>start_station_id</th>\n",
       "      <th>start_station_name</th>\n",
       "      <th>end_station_id</th>\n",
       "      <th>end_station_name</th>\n",
       "      <th>member_casual</th>\n",
       "      <th>trip_duration</th>\n",
       "      <th>year</th>\n",
       "      <th>month</th>\n",
       "      <th>day</th>\n",
       "      <th>day_of_week</th>\n",
       "    </tr>\n",
       "  </thead>\n",
       "  <tbody>\n",
       "    <tr>\n",
       "      <th>0</th>\n",
       "      <td>22178529</td>\n",
       "      <td>2019-04-01 00:02:22</td>\n",
       "      <td>2019-04-01 00:09:48</td>\n",
       "      <td>6251</td>\n",
       "      <td>81</td>\n",
       "      <td>Daley Center Plaza</td>\n",
       "      <td>56.0</td>\n",
       "      <td>Desplaines St &amp; Kinzie St</td>\n",
       "      <td>Subscriber</td>\n",
       "      <td>7.433333</td>\n",
       "      <td>2019</td>\n",
       "      <td>4</td>\n",
       "      <td>1</td>\n",
       "      <td>0</td>\n",
       "    </tr>\n",
       "    <tr>\n",
       "      <th>1</th>\n",
       "      <td>22178530</td>\n",
       "      <td>2019-04-01 00:03:02</td>\n",
       "      <td>2019-04-01 00:20:30</td>\n",
       "      <td>6226</td>\n",
       "      <td>317</td>\n",
       "      <td>Wood St &amp; Taylor St</td>\n",
       "      <td>59.0</td>\n",
       "      <td>Wabash Ave &amp; Roosevelt Rd</td>\n",
       "      <td>Subscriber</td>\n",
       "      <td>17.466667</td>\n",
       "      <td>2019</td>\n",
       "      <td>4</td>\n",
       "      <td>1</td>\n",
       "      <td>0</td>\n",
       "    </tr>\n",
       "    <tr>\n",
       "      <th>2</th>\n",
       "      <td>22178531</td>\n",
       "      <td>2019-04-01 00:11:07</td>\n",
       "      <td>2019-04-01 00:15:19</td>\n",
       "      <td>5649</td>\n",
       "      <td>283</td>\n",
       "      <td>LaSalle St &amp; Jackson Blvd</td>\n",
       "      <td>174.0</td>\n",
       "      <td>Canal St &amp; Madison St</td>\n",
       "      <td>Subscriber</td>\n",
       "      <td>4.200000</td>\n",
       "      <td>2019</td>\n",
       "      <td>4</td>\n",
       "      <td>1</td>\n",
       "      <td>0</td>\n",
       "    </tr>\n",
       "  </tbody>\n",
       "</table>\n",
       "</div>"
      ],
      "text/plain": [
       "    ride_id          start_time            end_time rideable_type  \\\n",
       "0  22178529 2019-04-01 00:02:22 2019-04-01 00:09:48          6251   \n",
       "1  22178530 2019-04-01 00:03:02 2019-04-01 00:20:30          6226   \n",
       "2  22178531 2019-04-01 00:11:07 2019-04-01 00:15:19          5649   \n",
       "\n",
       "   start_station_id         start_station_name  end_station_id  \\\n",
       "0                81         Daley Center Plaza            56.0   \n",
       "1               317        Wood St & Taylor St            59.0   \n",
       "2               283  LaSalle St & Jackson Blvd           174.0   \n",
       "\n",
       "            end_station_name member_casual  trip_duration  year  month  day  \\\n",
       "0  Desplaines St & Kinzie St    Subscriber       7.433333  2019      4    1   \n",
       "1  Wabash Ave & Roosevelt Rd    Subscriber      17.466667  2019      4    1   \n",
       "2      Canal St & Madison St    Subscriber       4.200000  2019      4    1   \n",
       "\n",
       "   day_of_week  \n",
       "0            0  \n",
       "1            0  \n",
       "2            0  "
      ]
     },
     "execution_count": 28,
     "metadata": {},
     "output_type": "execute_result"
    }
   ],
   "source": [
    "all_trips.head(3)"
   ]
  },
  {
   "cell_type": "code",
   "execution_count": 29,
   "id": "9a3233a6",
   "metadata": {},
   "outputs": [
    {
     "data": {
      "text/plain": [
       "array(['Subscriber', 'Customer', 'member', 'casual'], dtype=object)"
      ]
     },
     "execution_count": 29,
     "metadata": {},
     "output_type": "execute_result"
    }
   ],
   "source": [
    "# We have 4 unique values instead of two we can check this by\n",
    "all_trips.member_casual.unique()"
   ]
  },
  {
   "cell_type": "code",
   "execution_count": 30,
   "id": "9e35ad61",
   "metadata": {},
   "outputs": [],
   "source": [
    "# converting suscriber and customer to member and casual \n",
    "all_trips[\"member_casual\"]=all_trips[\"member_casual\"].replace({\"Subscriber\":\"member\",\"Customer\":\"casual\"})"
   ]
  },
  {
   "cell_type": "code",
   "execution_count": 32,
   "id": "9c7e2157",
   "metadata": {},
   "outputs": [],
   "source": [
    "# Exporting this dataframe as csv for further analysis\n",
    "all_trips.to_csv(\"all_trips.csv\")"
   ]
  },
  {
   "cell_type": "code",
   "execution_count": null,
   "id": "54ac0f60",
   "metadata": {},
   "outputs": [],
   "source": []
  },
  {
   "cell_type": "code",
   "execution_count": null,
   "id": "07545f50",
   "metadata": {},
   "outputs": [],
   "source": []
  },
  {
   "cell_type": "code",
   "execution_count": null,
   "id": "acd7342a",
   "metadata": {},
   "outputs": [],
   "source": []
  },
  {
   "cell_type": "code",
   "execution_count": null,
   "id": "c1eef0a5",
   "metadata": {},
   "outputs": [],
   "source": []
  },
  {
   "cell_type": "code",
   "execution_count": null,
   "id": "5857cb32",
   "metadata": {},
   "outputs": [],
   "source": []
  },
  {
   "cell_type": "code",
   "execution_count": null,
   "id": "31141712",
   "metadata": {},
   "outputs": [],
   "source": []
  },
  {
   "cell_type": "code",
   "execution_count": null,
   "id": "26bec90b",
   "metadata": {},
   "outputs": [],
   "source": []
  }
 ],
 "metadata": {
  "kernelspec": {
   "display_name": "Python 3 (ipykernel)",
   "language": "python",
   "name": "python3"
  },
  "language_info": {
   "codemirror_mode": {
    "name": "ipython",
    "version": 3
   },
   "file_extension": ".py",
   "mimetype": "text/x-python",
   "name": "python",
   "nbconvert_exporter": "python",
   "pygments_lexer": "ipython3",
   "version": "3.9.13"
  }
 },
 "nbformat": 4,
 "nbformat_minor": 5
}
